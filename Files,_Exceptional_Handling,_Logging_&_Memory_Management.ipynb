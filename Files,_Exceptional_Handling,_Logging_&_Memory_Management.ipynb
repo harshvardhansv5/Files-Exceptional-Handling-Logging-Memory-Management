{
  "nbformat": 4,
  "nbformat_minor": 0,
  "metadata": {
    "colab": {
      "provenance": []
    },
    "kernelspec": {
      "name": "python3",
      "display_name": "Python 3"
    },
    "language_info": {
      "name": "python"
    }
  },
  "cells": [
    {
      "cell_type": "markdown",
      "source": [
        "**1. What is the difference between interpreted and compiled languages?**\n",
        "- The main difference between **interpreted** and **compiled** languages lies in how they execute code:\n",
        "\n",
        "### **Compiled Languages**  \n",
        "- The entire source code is **converted** into machine code (binary) **before execution** using a **compiler**.  \n",
        "- The resulting executable file can run independently on the target system.  \n",
        "- **Examples**: C, C++, Rust, Go  \n",
        "- **Advantages**:  \n",
        "  - Faster execution (since the code is already translated into machine code).  \n",
        "  - Optimized for performance.  \n",
        "- **Disadvantages**:  \n",
        "  - Slower development cycle (because you must compile before running).  \n",
        "  - Platform-dependent (you may need to compile separately for different systems).\n",
        "\n",
        "### **Interpreted Languages**  \n",
        "- Code is executed **line-by-line** by an **interpreter** at runtime.  \n",
        "- No separate compilation step—execution happens directly.  \n",
        "- **Examples**: Python, JavaScript, Ruby  \n",
        "- **Advantages**:  \n",
        "  - Easier debugging (since execution stops at the error).  \n",
        "  - More flexible and portable (can run on any system with the right interpreter).  \n",
        "- **Disadvantages**:  \n",
        "  - Slower execution compared to compiled languages (because translation happens during execution).  \n",
        "  - More resource-intensive."
      ],
      "metadata": {
        "id": "2Nsm0j0TtjCH"
      }
    },
    {
      "cell_type": "markdown",
      "source": [
        "**2. What is exception handling in Python?**\n",
        "- Exception handling in Python is a mechanism to handle runtime errors, ensuring that the program can continue to execute or terminate gracefully even when an error occurs. Python provides a robust way to handle exceptions using try, except, else, and finally blocks.\n",
        "```\n",
        "try:\n",
        "    # Code that might raise an exception\n",
        "    result = 10 / 0\n",
        "except ZeroDivisionError:\n",
        "    # Handle the exception\n",
        "    print(\"Cannot divide by zero!\")\n",
        "else:\n",
        "    # Execute if no exception occurs\n",
        "    print(\"Division successful!\")\n",
        "finally:\n",
        "    # Always execute this block\n",
        "    print(\"Execution complete.\")\n",
        "```\n"
      ],
      "metadata": {
        "id": "pJ1hMT7qvWBl"
      }
    },
    {
      "cell_type": "code",
      "source": [
        "try:\n",
        "    num = int(input(\"Enter a number: \"))\n",
        "    result = 10 / num\n",
        "except ZeroDivisionError:\n",
        "    print(\"Cannot divide by zero!\")\n",
        "except ValueError:\n",
        "    print(\"Invalid input! Enter a number.\")\n",
        "else:\n",
        "    print(\"Result:\", result)\n",
        "finally:\n",
        "    print(\"Execution completed.\")"
      ],
      "metadata": {
        "colab": {
          "base_uri": "https://localhost:8080/"
        },
        "id": "8033Ie6qykB8",
        "outputId": "635dbc9e-1b8e-4e7f-db73-2a22e81bd6ad"
      },
      "execution_count": null,
      "outputs": [
        {
          "output_type": "stream",
          "name": "stdout",
          "text": [
            "Enter a number: 0\n",
            "Cannot divide by zero!\n",
            "Execution completed.\n"
          ]
        }
      ]
    },
    {
      "cell_type": "markdown",
      "source": [
        "**3. What is the purpose of the finally block in exception handling?**\n",
        "- The finally block is always executed, regardless of whether an exception occurred. It is typically used for cleanup actions, such as closing files or releasing resources.\n",
        "\n",
        "```\n",
        "try:\n",
        "    file = open(\"example.txt\", \"r\")\n",
        "    content = file.read()\n",
        "except FileNotFoundError:\n",
        "    print(\"File not found!\")\n",
        "finally:\n",
        "    file.close()\n",
        "    print(\"File closed.\")\n",
        "```"
      ],
      "metadata": {
        "id": "V-Lpd_mDyyFd"
      }
    },
    {
      "cell_type": "markdown",
      "source": [
        "**4. What is logging in Python?**\n",
        "- Logging in Python is a powerful and flexible mechanism for tracking events that occur during the execution of a program. It is an essential tool for debugging, monitoring, and diagnosing issues in applications. Unlike simple print() statements, logging provides a structured way to record messages with different levels of severity, making it easier to filter and analyze logs.\n",
        "\n",
        "- Python's logging module is part of the standard library and provides a comprehensive framework for logging.\n",
        "\n",
        "```\n",
        "import logging\n",
        "\n",
        "# Configure logging\n",
        "logging.basicConfig(level=logging.INFO, format=\"%(levelname)s - %(message)s\")\n",
        "\n",
        "# Example logs\n",
        "logging.debug(\"This is a debug message.\")\n",
        "logging.info(\"This is an info message.\")\n",
        "logging.warning(\"This is a warning.\")\n",
        "logging.error(\"This is an error.\")\n",
        "logging.critical(\"This is critical.\")\n",
        "\n",
        "Output:-\n",
        "INFO - This is an info message.  \n",
        "WARNING - This is a warning.  \n",
        "ERROR - This is an error.  \n",
        "CRITICAL - This is critical.\n",
        "```"
      ],
      "metadata": {
        "id": "ki9g6y2rzlGd"
      }
    },
    {
      "cell_type": "markdown",
      "source": [
        "**5. What is the significance of the __del__ method in Python?**\n",
        "- The __del__ method is a destructor in Python, called automatically when an object is about to be destroyed (i.e., when it goes out of scope or is explicitly deleted using del). It is mainly used to free up resources like closing files or network connections.\n",
        "\n",
        "```\n",
        "class MyClass:\n",
        "    def __init__(self, name):\n",
        "        self.name = name\n",
        "        print(f\"Object {self.name} created.\")\n",
        "\n",
        "    def __del__(self):\n",
        "        print(f\"Object {self.name} destroyed.\")\n",
        "\n",
        "# Creating an object\n",
        "obj = MyClass(\"A\")\n",
        "\n",
        "# Deleting the object\n",
        "del obj  \n",
        "\n",
        "# Output:\n",
        "# Object A created.\n",
        "# Object A destroyed.\n",
        "\n",
        "```"
      ],
      "metadata": {
        "id": "MajiOqND7paU"
      }
    },
    {
      "cell_type": "markdown",
      "source": [
        "**6. What is the difference between import and from ... import in Python?**\n",
        "- Python provides two main ways to bring in external modules:  \n",
        " 1. import module_name\n",
        "  - Imports the entire module.  \n",
        "  - You must use the module name as a prefix when calling its functions or variables.  \n",
        "**Example:**\n",
        "```python\n",
        "import math\n",
        "print(math.sqrt(25))  # Using the module prefix\n",
        "```\n",
        " 2. from module_name import specific_name\n",
        " - Imports only specific functions or variables.  \n",
        " - You can use them **without** the module prefix.  \n",
        "\n",
        "**Example:**\n",
        "```python\n",
        "from math import sqrt\n",
        "print(sqrt(25))  # No need to use math.sqrt()\n",
        "```"
      ],
      "metadata": {
        "id": "dCtTSR_u8ijf"
      }
    },
    {
      "cell_type": "markdown",
      "source": [
        "**7. How can you handle multiple exceptions in Python?**\n",
        "- Python allows handling multiple exceptions in different ways:\n",
        "  - Using Multiple except Blocks\n",
        "```\n",
        "try:\n",
        "    num = int(input(\"Enter a number: \"))\n",
        "    result = 10 / num  \n",
        "except ZeroDivisionError:\n",
        "    print(\"Error: Cannot divide by zero!\")\n",
        "except ValueError:\n",
        "    print(\"Error: Invalid input! Please enter a number.\")\n",
        "except Exception as e:  \n",
        "    print(f\"Unexpected error: {e}\")  \n",
        "```\n",
        "  - Using a Single except with Multiple Exceptions\n",
        "```\n",
        "#You can catch multiple exceptions in one block by grouping them inside a tuple.\n",
        "try:\n",
        "    num = int(input(\"Enter a number: \"))\n",
        "    result = 10 / num  \n",
        "except (ZeroDivisionError, ValueError) as e:\n",
        "    print(f\"Error occurred: {e}\")  \n",
        "```\n",
        "  - Using a Generic except Block\n",
        "```\n",
        "#Catches all exceptions, including unexpected ones.\n",
        "try:\n",
        "    num = int(input(\"Enter a number: \"))\n",
        "    result = 10 / num  \n",
        "except Exception as e:\n",
        "    print(f\"An error occurred: {e}\")  \n",
        "```\n",
        "\n",
        "\n"
      ],
      "metadata": {
        "id": "zqVCBSBC9tJX"
      }
    },
    {
      "cell_type": "markdown",
      "source": [
        "**8. What is the purpose of the with statement when handling files in Python?**\n",
        "- The ***with*** statement is used for resource management, ensuring that a file is automatically closed after it is used. This prevents memory leaks and file corruption by handling cleanup properly.\n",
        "\n",
        "```\n",
        "with open(\"example.txt\", \"r\") as file:\n",
        "    content = file.read()\n",
        "    print(content)  # Read and print file content\n",
        "\n",
        "# No need to call file.close(), it's done automatically\n",
        "```\n",
        "Without with (Manual Closing)\n",
        "```\n",
        "file = open(\"example.txt\", \"r\")\n",
        "content = file.read()\n",
        "print(content)\n",
        "file.close()  # Must remember to close the file manually\n",
        "```"
      ],
      "metadata": {
        "id": "wqc_v3NTAu-n"
      }
    },
    {
      "cell_type": "markdown",
      "source": [
        "**9. What is the difference between multithreading and multiprocessing?**\n",
        "- Multithreading and multiprocessing are two approaches to achieving concurrency and parallelism in Python. While both techniques enable the execution of multiple tasks simultaneously, they differ in terms of resource management, memory allocation, and execution behavior.  \n",
        "\n",
        "**Key Definitions:**  \n",
        "- **Program:** An executable file that consists of a set of instructions to perform a task, usually stored on a disk.  \n",
        "- **Process:** A program that has been loaded into memory along with all the resources it needs to operate. Each process has its own memory space.  \n",
        "- **Thread:** The unit of execution within a process. A process can have multiple threads that share the same memory space and resources.  \n",
        "\n",
        "**1. Multithreading**  \n",
        "- A single process is divided into multiple **threads** that share the same memory space.  \n",
        "- Threads are **lightweight** and can run concurrently within the same process.  \n",
        "- Due to Python's **Global Interpreter Lock (GIL)**, threads do not achieve true parallel execution but are effective for **I/O-bound tasks** (e.g., file I/O, network requests).  \n",
        "- Suitable when tasks involve **waiting** (e.g., reading from a file, database, or API).  \n",
        "- **Concurrency** is achieved by quickly switching between threads, creating an illusion of parallel execution.  \n",
        "\n",
        "**2. Multiprocessing**  \n",
        "- Multiple **processes** run independently, each with its own memory space.  \n",
        "- Processes are **heavier** than threads but can leverage multiple CPU cores, enabling true parallel execution.  \n",
        "- Ideal for **CPU-bound tasks** (e.g., mathematical computations, image processing, machine learning model training).  \n",
        "- No **GIL** limitation since each process runs separately with its own instance of the Python interpreter.  \n",
        "- Each process **does not share resources** with others, making it more memory-intensive but also more efficient for CPU-heavy tasks.\n",
        "\n",
        "### **Comparison Table**  \n",
        "\n",
        "| Feature            | Multithreading | Multiprocessing |\n",
        "|--------------------|---------------|----------------|\n",
        "| Execution Model   | Multiple threads in a single process | Multiple independent processes |\n",
        "| Memory Sharing    | Shared memory space | Separate memory space |\n",
        "| CPU Utilization   | Limited due to GIL | Fully utilizes multiple CPU cores |\n",
        "| Suitable for      | I/O-bound tasks | CPU-bound tasks |\n",
        "| Performance       | Faster context switching, but limited concurrency | Higher overhead but true parallelism |\n",
        "| Python Limitation | Affected by GIL | No GIL restriction |\n",
        "| Example Use Case  | Web scraping, network requests, logging | Data analysis, parallel computation |"
      ],
      "metadata": {
        "id": "MJ1vXR9XCBOu"
      }
    },
    {
      "cell_type": "markdown",
      "source": [
        "**10. What are the advantages of using logging in a program?**\n",
        "\n",
        "--- Using logging in a program offers several advantages:\n",
        "1. **Debugging and Troubleshooting**: Logging provides detailed information about the program's execution, making it easier to identify and fix issues. By reviewing logs, developers can trace the flow of execution and pinpoint where errors or unexpected behavior occurred.\n",
        "\n",
        "2. **Monitoring and Auditing**: Logs can be used to monitor the health and performance of an application in real-time. They also serve as an audit trail, recording important events and actions, which is useful for compliance and security purposes.\n",
        "\n",
        "3. **Error Tracking**: Logging helps in capturing and recording errors, exceptions, and warnings. This information is invaluable for diagnosing problems that may not be immediately apparent during development or testing.\n",
        "\n",
        "4. **Performance Analysis**: By logging performance metrics (e.g., response times, resource usage), developers can analyze and optimize the program's performance. This helps in identifying bottlenecks and improving efficiency.\n",
        "\n",
        "5. **Historical Record**: Logs provide a historical record of the program's execution over time. This can be useful for understanding past behavior, identifying patterns, and making informed decisions about future improvements.\n",
        "\n",
        "6. **User Activity Tracking**: Logging user actions and interactions can help in understanding how users are interacting with the application. This information can be used to improve user experience and identify potential issues.\n",
        "\n",
        "7. **Customization and Flexibility**: Logging frameworks often allow for customizable log levels (e.g., DEBUG, INFO, WARN, ERROR, FATAL), enabling developers to control the granularity of the information logged. This flexibility ensures that logs can be tailored to the specific needs of the application.\n",
        "\n",
        "8. **Integration with Monitoring Tools**: Logs can be integrated with various monitoring and alerting tools, enabling automated detection and notification of issues. This helps in proactive maintenance and reduces downtime.\n",
        "\n",
        "9. **Reproducibility**: Logs can help in reproducing issues by providing a detailed record of the program's state and actions leading up to an error. This is particularly useful for debugging intermittent or complex problems.\n",
        "\n",
        "10. **Documentation**: Logs can serve as a form of documentation, providing insights into the program's behavior and logic. This can be helpful for new developers joining the project or for revisiting the code after a long period.\n",
        "\n",
        "11. **Security**: Logging security-related events (e.g., login attempts, access control violations) helps in detecting and responding to potential security threats. It also aids in forensic analysis in case of a security breach.\n",
        "\n",
        "12. **Scalability**: In distributed systems, logging is essential for tracking the behavior of multiple components and services. Centralized logging solutions can aggregate logs from different sources, making it easier to manage and analyze logs at scale."
      ],
      "metadata": {
        "id": "Uc-xj2m3FycN"
      }
    },
    {
      "cell_type": "code",
      "source": [
        "import logging\n",
        "\n",
        "# Configure logging\n",
        "logging.basicConfig(\n",
        "    filename=\"app.log\",  # Log file name\n",
        "    level=logging.DEBUG,  # Set log level\n",
        "    format=\"%(asctime)s - %(levelname)s - %(message)s\"  # Log format\n",
        ")\n",
        "\n",
        "# Example log messages\n",
        "logging.debug(\"This is a debug message\")\n",
        "logging.info(\"Application started successfully\")\n",
        "logging.warning(\"This is a warning\")\n",
        "logging.error(\"An error occurred\")\n",
        "logging.critical(\"Critical failure\")\n",
        "\n",
        "# Simulating an exception\n",
        "try:\n",
        "    x = 1 / 0\n",
        "except ZeroDivisionError:\n",
        "    logging.exception(\"Exception occurred\")  # Logs exception with traceback"
      ],
      "metadata": {
        "colab": {
          "base_uri": "https://localhost:8080/"
        },
        "id": "J79rOUH1IlKj",
        "outputId": "59650424-5f42-4cd3-c720-afe6e94c3da4"
      },
      "execution_count": null,
      "outputs": [
        {
          "output_type": "stream",
          "name": "stderr",
          "text": [
            "WARNING:root:This is a warning\n",
            "ERROR:root:An error occurred\n",
            "CRITICAL:root:Critical failure\n",
            "ERROR:root:Exception occurred\n",
            "Traceback (most recent call last):\n",
            "  File \"<ipython-input-1-e63a4f0a84e5>\", line 19, in <cell line: 0>\n",
            "    x = 1 / 0\n",
            "        ~~^~~\n",
            "ZeroDivisionError: division by zero\n"
          ]
        }
      ]
    },
    {
      "cell_type": "markdown",
      "source": [
        "11. **What is memory management in Python?**\n",
        "- Memory management in Python refers to the process of allocating, using, and freeing memory during the execution of a Python program. Python handles memory management automatically, which simplifies development and reduces the risk of memory-related errors such as leaks or corruption. Here are the key aspects of memory management in Python:\n",
        "\n",
        " 1. **Automatic Memory Allocation**\n",
        "   - Python automatically allocates memory for objects when they are created. Developers do not need to manually allocate memory for variables or data structures.\n",
        "\n",
        " 2. **Garbage Collection**\n",
        "   - Python uses a built-in **garbage collector** to automatically reclaim memory that is no longer in use. The garbage collector identifies and cleans up objects that are no longer referenced by the program.\n",
        "   - Python's garbage collector primarily uses **reference counting** to track the number of references to an object. When an object's reference count drops to zero, it is deallocated.\n",
        "   - Additionally, Python employs a **cyclic garbage collector** to detect and clean up reference cycles (e.g., objects that reference each other but are no longer accessible).\n",
        "\n",
        " 3. **Dynamic Typing**\n",
        "   - Python is dynamically typed, meaning that variables do not have a fixed type. Memory is allocated dynamically based on the type of data assigned to a variable.\n",
        "\n",
        " 4. **Memory Pools**\n",
        "   - Python uses private memory pools to manage small objects efficiently. This reduces the overhead of frequent memory allocations and deallocations.\n",
        "\n",
        " 5. **Object Lifecycle**\n",
        "   - Every object in Python has a lifecycle: creation, usage, and deletion. Python manages this lifecycle automatically, ensuring that memory is freed when objects are no longer needed.\n",
        "\n",
        " 6. **Memory Profiling and Debugging**\n",
        "   - Developers can use tools like `tracemalloc`, `gc` module, or third-party libraries (e.g., `objgraph`, `memory_profiler`) to analyze memory usage and debug memory-related issues.\n",
        "\n",
        " 7. **Memory Optimization Techniques**\n",
        "   - Python provides mechanisms to optimize memory usage, such as:\n",
        "     - Using generators instead of lists for large datasets.\n",
        "     - Leveraging data structures like `array` or `numpy` arrays for efficient storage of homogeneous data.\n",
        "     - Avoiding unnecessary object creation or duplication.\n",
        "\n",
        " 8. **Global Interpreter Lock (GIL)**\n",
        "   - Python's GIL ensures thread-safe memory management by allowing only one thread to execute Python bytecode at a time. While this simplifies memory management, it can impact performance in multi-threaded programs.\n",
        "\n",
        " 9. **Memory Limits**\n",
        "   - Python programs are subject to the memory limits of the system. For very large datasets, developers may need to use techniques like memory-mapped files (`mmap`) or external storage."
      ],
      "metadata": {
        "id": "E2zpBm7mI3yb"
      }
    },
    {
      "cell_type": "markdown",
      "source": [
        "**12. What are the basic steps involved in exception handling in Python?**\n",
        "- In Python, **exception handling** is a mechanism that allows you to manage runtime errors and handle them in a controlled way, preventing program crashes and ensuring the program continues running smoothly. The basic steps involved in exception handling are:\n",
        "\n",
        "1. Try Block  \n",
        "- The **`try` block** is used to wrap the code that might raise an exception.\n",
        "- If any exception occurs within the `try` block, Python will stop executing the remaining code in the block and jump to the corresponding `except` block.\n",
        "\n",
        "```python\n",
        "try:\n",
        "    # Code that might raise an exception\n",
        "    x = 10 / 0  # This will raise a ZeroDivisionError\n",
        "```\n",
        "\n",
        "2. Except Block  \n",
        "- The **`except` block** is where you catch and handle the exception.\n",
        "- You can catch specific exceptions or use a generic `except` block to catch any exception.\n",
        "\n",
        "```python\n",
        "try:\n",
        "    x = 10 / 0\n",
        "except ZeroDivisionError:\n",
        "    print(\"Cannot divide by zero!\")  # Handle the exception\n",
        "```\n",
        "\n",
        "- You can also catch multiple exceptions by specifying them in a tuple:\n",
        "\n",
        "```python\n",
        "try:\n",
        "    x = int(\"Hello\")  # This will raise a ValueError\n",
        "except (ValueError, ZeroDivisionError):\n",
        "    print(\"Caught a ValueError or ZeroDivisionError!\")\n",
        "```\n",
        "\n",
        "3. Else Block\n",
        "- The **`else` block** is optional and executes only if **no exception occurs** in the `try` block.\n",
        "- It allows you to run code that should only be executed when there are no errors.\n",
        "\n",
        "```python\n",
        "try:\n",
        "    x = 10 / 2  # No exception\n",
        "except ZeroDivisionError:\n",
        "    print(\"Cannot divide by zero!\")\n",
        "else:\n",
        "    print(\"Division successful!\")  # Will execute only if no exception occurs\n",
        "```\n",
        "\n",
        "4. Finally Block\n",
        "- The **`finally` block** is optional and is always executed, regardless of whether an exception was raised or not.\n",
        "- It's typically used for clean-up operations, like closing files or releasing resources.\n",
        "\n",
        "```python\n",
        "try:\n",
        "    x = 10 / 2\n",
        "except ZeroDivisionError:\n",
        "    print(\"Cannot divide by zero!\")\n",
        "else:\n",
        "    print(\"Division successful!\")\n",
        "finally:\n",
        "    print(\"This block will always execute.\")\n",
        "```\n",
        "\n",
        "### **Basic Flow of Exception Handling**  \n",
        "1. **Try Block**: Python attempts to execute the code inside the `try` block.\n",
        "2. **Except Block**: If an exception occurs, Python will look for the appropriate `except` block to handle the exception.\n",
        "3. **Else Block**: If no exception occurs, the `else` block executes.\n",
        "4. **Finally Block**: This block will execute no matter what, after the `try` block finishes, and after either the `except` or `else` block has been executed.\n",
        "\n"
      ],
      "metadata": {
        "id": "AbQbvmpgPWbL"
      }
    },
    {
      "cell_type": "code",
      "source": [
        "try:\n",
        "    # Code that may raise an exception\n",
        "    num1 = int(input(\"Enter a number: \"))\n",
        "    num2 = int(input(\"Enter another number: \"))\n",
        "    result = num1 / num2  # May raise ZeroDivisionError if num2 is 0\n",
        "except ZeroDivisionError:\n",
        "    # Handle specific exception (divide by zero)\n",
        "    print(\"Error: Cannot divide by zero!\")\n",
        "except ValueError:\n",
        "    # Handle specific exception (invalid input)\n",
        "    print(\"Error: Please enter valid integers!\")\n",
        "else:\n",
        "    # If no exceptions occur\n",
        "    print(f\"Result: {result}\")\n",
        "finally:\n",
        "    # This block will always execute\n",
        "    print(\"Execution completed.\")"
      ],
      "metadata": {
        "colab": {
          "base_uri": "https://localhost:8080/"
        },
        "id": "683zqxIPRiUD",
        "outputId": "6f3094cb-17c6-40c6-b3d3-2ad5ffda9a99"
      },
      "execution_count": null,
      "outputs": [
        {
          "output_type": "stream",
          "name": "stdout",
          "text": [
            "Enter a number: 88\n",
            "Enter another number: car\n",
            "Error: Please enter valid integers!\n",
            "Execution completed.\n"
          ]
        }
      ]
    },
    {
      "cell_type": "markdown",
      "source": [
        "**13.** **Why is memory management important in Python?**\n",
        "- Memory management in Python is crucial because it directly impacts the **performance**, **efficiency**, and **stability** of a program. Here are the key reasons why memory management is important:\n",
        "\n",
        " 1. **Automatic Memory Allocation**  \n",
        " - Python automatically allocates memory when objects are created and deallocates it when they are no longer needed, which simplifies development and minimizes the risk of memory-related errors like **memory leaks** and **dangling pointers**.\n",
        " - Developers don't need to manually manage memory, allowing them to focus on solving the core problem.\n",
        "\n",
        " 2. **Garbage Collection**  \n",
        " - Python uses a built-in **garbage collector** to automatically reclaim memory occupied by unused objects. This ensures that memory is freed up when objects are no longer in use, preventing **memory bloat** (unnecessary memory consumption) and **leaks**.\n",
        " - The **cyclic garbage collector** also handles situations where objects reference each other in a cycle, which could be missed by simple reference counting.\n",
        "\n",
        " 3. **Performance Optimization**  \n",
        " - Proper memory management ensures that a program runs **efficiently** by minimizing **memory overhead**.\n",
        " - Inefficient memory usage can lead to high **memory consumption** and even cause a program to crash if it exceeds the system's memory limit. Efficient memory management helps optimize resource utilization and avoid performance degradation, especially in long-running programs.\n",
        "\n",
        " 4. **Handling Large Datasets**  \n",
        "- In applications like **data analysis** or **machine learning**, where you may be working with large datasets, Python's memory management helps ensure that only the necessary portions of data are kept in memory at any given time.\n",
        "- For example, using **generators** instead of lists allows for processing large datasets **without loading everything into memory** at once.\n",
        "\n",
        " 5. **Preventing Memory Leaks**  \n",
        " - Memory leaks occur when memory is allocated but never released, leading to **gradual depletion** of available memory. While Python's garbage collector reduces the risk of memory leaks, improper handling of references or objects can still lead to situations where objects remain in memory unnecessarily.\n",
        " - Effective memory management helps identify and prevent such leaks, ensuring that memory is released when it's no longer needed.\n",
        "\n",
        " 6. **Scalability**  \n",
        " - As applications scale, managing memory becomes increasingly important. Poor memory management can limit the program's ability to scale effectively, particularly in distributed systems where large volumes of data and multiple processes are involved.\n",
        " - Centralized logging systems, memory profiling tools, and **optimized data structures** allow developers to ensure that the program can scale to handle increasing workloads without running into memory limitations.\n",
        "\n",
        " 7. **Memory Profiling and Debugging**  \n",
        " - Python provides tools like the **`gc`** (garbage collection) module and **`tracemalloc`** for tracking memory usage, identifying memory leaks, and optimizing performance. This allows developers to profile memory usage and identify parts of the program that may be inefficient or consuming excessive memory.\n",
        "\n",
        " 8. **Stability and Reliability**  \n",
        " - Proper memory management contributes to the **stability** of the program. A program that doesn't manage memory properly can cause crashes, slow performance, or even data corruption.\n",
        " - Ensuring that memory is managed correctly throughout the lifecycle of the application helps maintain the program's **reliability**.\n",
        "\n",
        " 9. **Integration with External Resources**  \n",
        " - When working with external resources such as **files**, **databases**, or **network connections**, efficient memory management ensures that resources are freed when no longer needed, preventing **resource exhaustion**.\n"
      ],
      "metadata": {
        "id": "dewAuRiiRyEM"
      }
    },
    {
      "cell_type": "markdown",
      "source": [
        "**14. What is the role of try and except in exception handling?**\n",
        "- In exception handling, **`try`** is used to wrap code that might raise an exception, and **`except`** is used to catch and handle the exception if it occurs."
      ],
      "metadata": {
        "id": "SFTj1J8_TZsi"
      }
    },
    {
      "cell_type": "code",
      "source": [
        "try:\n",
        "    x = int(input(\"Enter a number: \"))  # Might raise ValueError if input is not an integer\n",
        "    result = 10 / x  # Might raise ZeroDivisionError if x is 0\n",
        "except ValueError:\n",
        "    print(\"Error: Invalid input! Please enter an integer.\")\n",
        "except ZeroDivisionError:\n",
        "    print(\"Error: Cannot divide by zero!\")"
      ],
      "metadata": {
        "colab": {
          "base_uri": "https://localhost:8080/"
        },
        "id": "J6F2vGO7UA9a",
        "outputId": "55665056-87f0-4617-ce1d-7923a37725e7"
      },
      "execution_count": null,
      "outputs": [
        {
          "output_type": "stream",
          "name": "stdout",
          "text": [
            "Enter a number: top\n",
            "Error: Invalid input! Please enter an integer.\n"
          ]
        }
      ]
    },
    {
      "cell_type": "markdown",
      "source": [
        "**15. How does Python's garbage collection system work?**\n",
        "- Python's garbage collection system works by using **reference counting** and a **cyclic garbage collector** to manage memory and reclaim unused memory.\n",
        "\n",
        "\n",
        "1. **Reference Counting**:\n",
        "   - Every object in Python has a reference count, which tracks how many references point to that object.\n",
        "   - When an object's reference count reaches zero (i.e., no references to the object), Python deallocates the object and frees its memory.\n",
        "   \n",
        "2. **Cyclic Garbage Collection**:\n",
        "   - Python uses a cyclic garbage collector to detect and clean up reference cycles, which reference counting alone cannot handle (e.g., objects referencing each other).\n",
        "   - The cyclic garbage collector runs periodically to identify these cycles and break them, reclaiming the memory occupied by the objects involved.\n",
        "\n",
        "Example:\n",
        "```python\n",
        "import gc\n",
        "\n",
        "class MyClass:\n",
        "    def __init__(self):\n",
        "        self.ref = None\n",
        "\n",
        "a = MyClass()\n",
        "b = MyClass()\n",
        "a.ref = b\n",
        "b.ref = a  # Reference cycle\n",
        "\n",
        "gc.collect()  # Forces the garbage collector to clean up the cycle\n",
        "```\n"
      ],
      "metadata": {
        "id": "Zv-jZyW6UJbj"
      }
    },
    {
      "cell_type": "markdown",
      "source": [
        "**16. What is the purpose of the else block in exception handling?**\n",
        "- The **`else`** block in exception handling is used to execute code that should run only if **no exceptions** were raised in the `try` block. It allows you to separate normal code execution from error handling, making the code cleaner.\n",
        "\n",
        "**Purpose:**\n",
        "- To define actions that should occur only if the `try` block completes without exceptions.\n",
        "- Helps in ensuring that certain tasks (e.g., logging success) are only executed when no error occurs.\n",
        "\n",
        "Example Program:\n",
        "```python\n",
        "try:\n",
        "    x = 10 / 2  # No exception\n",
        "except ZeroDivisionError:\n",
        "    print(\"Cannot divide by zero!\")\n",
        "else:\n",
        "    print(\"Division successful!\")  # This will run since no exception occurred\n",
        "```\n",
        "\n",
        "**Key Points:**\n",
        "- **`else`**: Executes only when no exception is raised in the `try` block."
      ],
      "metadata": {
        "id": "41Rvpwm1XXsc"
      }
    },
    {
      "cell_type": "markdown",
      "source": [
        "**17. What are the common logging levels in Python?**\n",
        "- Python's logging module defines several **logging levels** to indicate the severity or importance of log messages. The common logging levels, in increasing order of severity, are:\n",
        "\n",
        "1. **`DEBUG`**:\n",
        "   - Logs detailed information, typically useful for diagnosing problems.\n",
        "   - Example: Tracing program flow, variable values.\n",
        "   \n",
        "2. **`INFO`**:\n",
        "   - Logs general information about the program's execution, such as milestones or important events.\n",
        "   - Example: Program start, successful completion of a task.\n",
        "\n",
        "3. **`WARNING`**:\n",
        "   - Logs potential issues or conditions that are not errors but might require attention.\n",
        "   - Example: Deprecated features, minor performance concerns.\n",
        "\n",
        "4. **`ERROR`**:\n",
        "   - Logs errors that prevent the program from performing a task but do not stop the program entirely.\n",
        "   - Example: File not found, invalid user input.\n",
        "\n",
        "5. **`CRITICAL`**:\n",
        "   - Logs severe errors that may cause the program to terminate.\n",
        "   - Example: System failures, critical component malfunction.\n",
        "\n",
        "Example :\n",
        "```python\n",
        "import logging\n",
        "\n",
        "logging.basicConfig(level=logging.DEBUG)\n",
        "\n",
        "logging.debug(\"This is a debug message.\")\n",
        "logging.info(\"This is an info message.\")\n",
        "logging.warning(\"This is a warning message.\")\n",
        "logging.error(\"This is an error message.\")\n",
        "logging.critical(\"This is a critical message.\")\n",
        "```\n",
        "\n",
        "**Key Points:**\n",
        "- **`DEBUG`**: Detailed information for debugging.\n",
        "- **`INFO`**: General runtime information.\n",
        "- **`WARNING`**: Indications of potential issues.\n",
        "- **`ERROR`**: Errors that disrupt normal operations.\n",
        "- **`CRITICAL`**: Severe errors causing major issues."
      ],
      "metadata": {
        "id": "dFPZ7FcZYUAL"
      }
    },
    {
      "cell_type": "markdown",
      "source": [
        "**18. What is the difference between os.fork() and multiprocessing in Python?**\n",
        "\n",
        "- **os.fork()**:\n",
        "  - Creates a child process in Unix-like systems.\n",
        "  - **Low-level**: Only splits into parent and child processes.\n",
        "  - **Platform**: Unix-like systems (Linux/macOS).\n",
        "  - **Usage**: Limited to system-level tasks, no built-in inter-process communication.\n",
        "\n",
        "- **Multiprocessing**:\n",
        "  - A high-level module to create and manage processes, with support for communication and synchronization.\n",
        "  - **Cross-platform**: Works on both Unix and Windows.\n",
        "  - **Usage**: Suitable for parallel processing tasks, supports queues, pipes, and more.\n",
        "\n",
        "**Multiprocessing Example:**\n",
        "```python\n",
        "import multiprocessing\n",
        "\n",
        "def worker(num):\n",
        "    print(f\"Worker {num}\")\n",
        "\n",
        "if __name__ == '__main__':\n",
        "    processes = []\n",
        "    for i in range(5):\n",
        "        p = multiprocessing.Process(target=worker, args=(i,))\n",
        "        p.start()\n",
        "        processes.append(p)\n",
        "\n",
        "    for p in processes:\n",
        "        p.join()\n",
        "```\n",
        "\n",
        "**os.fork() Example:**\n",
        "```python\n",
        "import os\n",
        "\n",
        "pid = os.fork()\n",
        "\n",
        "if pid > 0:\n",
        "    print(\"Parent Process\")\n",
        "else:\n",
        "    print(\"Child Process\")\n",
        "```"
      ],
      "metadata": {
        "id": "aYsu9sOgZpSB"
      }
    },
    {
      "cell_type": "markdown",
      "source": [
        "**19. What is the importance of closing a file in Python?**\n",
        "- Closing a file in Python is crucial for several reasons:\n",
        "\n",
        " - *Resource Management* : Files consume system resources. Failing to close them can lead to resource leaks, which can degrade system performance over time.\n",
        "\n",
        " - *Data Integrity* : Closing a file ensures that all buffered data is properly written to the file. If a file is not closed, some data might remain in memory and not be saved.\n",
        "\n",
        " - *File Locking* : On some operating systems, an open file may be locked, preventing other processes from accessing it. Closing the file releases this lock.\n",
        "\n",
        " - *Best Practice* : Using constructs like `with` ensures that files are automatically closed, even if an error occurs, promoting cleaner and safer code."
      ],
      "metadata": {
        "id": "lOTqj7MEdhz8"
      }
    },
    {
      "cell_type": "markdown",
      "source": [
        "**20. What is the difference between file.read() and file.readline() in Python?**\n",
        "- file.read(size): Reads the entire file or up to size bytes if specified. It returns the content as a single string. If size is not provided, it reads the entire file.\n",
        "\n",
        "- file.readline(size): Reads a single line from the file, up to size bytes if specified. It returns the line as a string. If size is not provided, it reads the entire line."
      ],
      "metadata": {
        "id": "irNECQ8De23k"
      }
    },
    {
      "cell_type": "markdown",
      "source": [
        "**21. What is the logging module in Python used for?**\n",
        "- The logging module in Python is used for:\n",
        "\n",
        " - **Tracking Events:** Logging events in an application, such as errors, warnings, or informational messages.\n",
        "\n",
        " - **Debugging:** Providing detailed information that can help diagnose issues during development and maintenance.\n",
        "\n",
        " - **Auditing:** Keeping a record of significant events for security or compliance purposes.\n",
        "\n",
        " - **Customization**: Allowing different levels of logging (e.g., DEBUG, INFO, WARNING, ERROR, CRITICAL) and output formats.\n",
        "\n",
        "\n"
      ],
      "metadata": {
        "id": "_xQtI2B1fH4p"
      }
    },
    {
      "cell_type": "markdown",
      "source": [
        "**22. What is the os module in Python used for in file handling?**\n",
        "- The os module in Python provides functions for interacting with the operating system, particularly in file handling:\n",
        "\n",
        " - **File Operations:** Functions like os.rename(), os.remove(), and os.mkdir() for renaming, deleting, and creating directories.\n",
        "\n",
        " - **Path Manipulation:** Functions like os.path.join(), os.path.exists(), and os.path.isdir() for working with file paths.\n",
        "\n",
        " - **Environment Variables:** Accessing and modifying environment variables using os.getenv() and os.putenv().\n",
        "\n",
        " - **Process Management:** Functions like os.system() and os.exec() for running system commands and managing processes."
      ],
      "metadata": {
        "id": "9NjsxaeogTdb"
      }
    },
    {
      "cell_type": "markdown",
      "source": [
        "**23. How do you raise an exception manually in Python?**\n",
        "- You can raise an exception manually using the raise statement:\n",
        "\n",
        "```\n",
        "if some_condition:\n",
        "    raise ValueError(\"An error occurred\")\n",
        "```"
      ],
      "metadata": {
        "id": "9ZJZS1mHhJPq"
      }
    },
    {
      "cell_type": "code",
      "source": [
        "def check_positive_number(num):\n",
        "    if num < 0:\n",
        "        raise ValueError(\"Number must be positive\")\n",
        "    return num\n",
        "\n",
        "try:\n",
        "    result = check_positive_number(-5)\n",
        "except ValueError as e:\n",
        "    print(f\"Error: {e}\")"
      ],
      "metadata": {
        "colab": {
          "base_uri": "https://localhost:8080/"
        },
        "id": "-zyyiMXlhsAV",
        "outputId": "984c1eeb-f471-462b-b2ed-1c094f51ae0a"
      },
      "execution_count": null,
      "outputs": [
        {
          "output_type": "stream",
          "name": "stdout",
          "text": [
            "Error: Number must be positive\n"
          ]
        }
      ]
    },
    {
      "cell_type": "markdown",
      "source": [
        "**24. Why is it important to use multithreading in certain applications?**\n",
        "- Concurrency: Multithreading allows an application to perform multiple tasks concurrently, improving responsiveness and performance, especially in I/O-bound or GUI applications.\n",
        "\n",
        "- Resource Utilization: It enables better utilization of CPU cores, particularly in multi-core systems.\n",
        "\n",
        "- Responsiveness: In GUI applications, multithreading keeps the interface responsive by offloading long-running tasks to background threads.\n",
        "\n",
        "- Parallelism: For tasks that can be parallelized, multithreading can significantly reduce execution time.\n",
        "\n",
        "However, multithreading also introduces complexity, such as potential race conditions, deadlocks, and the need for synchronization mechanisms like locks and semaphores."
      ],
      "metadata": {
        "id": "tQA09x7Vhiev"
      }
    },
    {
      "cell_type": "code",
      "source": [
        "#How can you open a file for writing in Python and write a string to it?\n",
        "with open(\"example.txt\", \"w\") as file:\n",
        "    file.write(\"Hello, this is a test file!\")"
      ],
      "metadata": {
        "id": "MVUlJfU0p_JF"
      },
      "execution_count": null,
      "outputs": []
    },
    {
      "cell_type": "code",
      "source": [
        "#Write a Python program to read the contents of a file and print each line\n",
        "with open(\"example.txt\", \"r\") as file:\n",
        "    for line in file:\n",
        "        print(line.strip())  # Strip removes leading/trailing whitespaces"
      ],
      "metadata": {
        "colab": {
          "base_uri": "https://localhost:8080/"
        },
        "id": "GqtwUqnRqf4E",
        "outputId": "59aa7b86-aced-4fed-898f-bc1e82a58976"
      },
      "execution_count": null,
      "outputs": [
        {
          "output_type": "stream",
          "name": "stdout",
          "text": [
            "Hello, this is a test file!\n"
          ]
        }
      ]
    },
    {
      "cell_type": "code",
      "source": [
        "# How would you handle a case where the file doesn't exist while trying to open\n",
        "# it for reading?\n",
        "try:\n",
        "    with open(\"nonexistent.txt\", \"r\") as file:\n",
        "        print(file.read())\n",
        "except FileNotFoundError:\n",
        "    print(\"File not found. Please check the filename.\")"
      ],
      "metadata": {
        "colab": {
          "base_uri": "https://localhost:8080/"
        },
        "id": "w4c0PDHMqyf6",
        "outputId": "94ef3091-1747-4cd2-9e40-241acf818fbe"
      },
      "execution_count": null,
      "outputs": [
        {
          "output_type": "stream",
          "name": "stdout",
          "text": [
            "File not found. Please check the filename.\n"
          ]
        }
      ]
    },
    {
      "cell_type": "code",
      "source": [
        "# Write a Python script that reads from one file and writes its content to\n",
        "# another file.\n",
        "with open(\"source.txt\", \"r\") as src, open(\"destination.txt\", \"w\") as dest:\n",
        "    dest.write(src.read())"
      ],
      "metadata": {
        "id": "5C6UVKdHrGM4"
      },
      "execution_count": null,
      "outputs": []
    },
    {
      "cell_type": "code",
      "source": [
        "#How would you catch and handle division by zero error in Python?\n",
        "try:\n",
        "    result = 10 / 0\n",
        "except ZeroDivisionError:\n",
        "    print(\"Cannot divide by zero!\")"
      ],
      "metadata": {
        "id": "Uo7k2-lAsF-F"
      },
      "execution_count": null,
      "outputs": []
    },
    {
      "cell_type": "code",
      "source": [
        "# Write a Python program that logs an error message to a log file when a\n",
        "# division by zero exception occurs.\n",
        "\n",
        "import logging\n",
        "\n",
        "logging.basicConfig(filename=\"error.log\", level=logging.ERROR)\n",
        "\n",
        "try:\n",
        "    result = 10 / 0\n",
        "except ZeroDivisionError as e:\n",
        "    logging.error(f\"Error occurred: {e}\")"
      ],
      "metadata": {
        "id": "6SXpQ4_RswFB"
      },
      "execution_count": null,
      "outputs": []
    },
    {
      "cell_type": "code",
      "source": [
        "# How do you log information at different levels (INFO, ERROR, WARNING) in\n",
        "# Python using the logging module?\n",
        "import logging\n",
        "\n",
        "logging.basicConfig(level=logging.DEBUG, filename=\"app.log\",\n",
        "                    format=\"%(levelname)s - %(message)s\")\n",
        "\n",
        "logging.info(\"This is an INFO message.\")\n",
        "logging.warning(\"This is a WARNING message.\")\n",
        "logging.error(\"This is an ERROR message.\")"
      ],
      "metadata": {
        "id": "uXYqw2UVtCqt"
      },
      "execution_count": null,
      "outputs": []
    },
    {
      "cell_type": "code",
      "source": [
        "#Write a program to handle a file opening error using exception handling.\n",
        "try:\n",
        "    with open(\"file.txt\", \"r\") as file:\n",
        "        content = file.read()\n",
        "except FileNotFoundError:\n",
        "    print(\"File not found!\")"
      ],
      "metadata": {
        "id": "r5flBVBPt0a2"
      },
      "execution_count": null,
      "outputs": []
    },
    {
      "cell_type": "code",
      "source": [
        "#How can you read a file line by line and store its content in a list in Python?\n",
        "with open(\"example.txt\", \"r\") as file:\n",
        "    lines = file.readlines()  # Stores lines in a list"
      ],
      "metadata": {
        "id": "mP_EqpvEuKgb"
      },
      "execution_count": null,
      "outputs": []
    },
    {
      "cell_type": "code",
      "source": [
        "#How can you append data to an existing file in Python?\n",
        "with open(\"example.txt\", \"a\") as file:\n",
        "    file.write(\"\\nNew appended line.\")"
      ],
      "metadata": {
        "id": "VtvlUENnuu68"
      },
      "execution_count": null,
      "outputs": []
    },
    {
      "cell_type": "code",
      "source": [
        "# Write a Python program that uses a try-except block to handle an error when attempting to access a\n",
        "# dictionary key that doesn't exist\n",
        "try:\n",
        "    my_dict = {\"name\": \"John\"}\n",
        "    print(my_dict[\"age\"])  # Key doesn't exist\n",
        "except KeyError:\n",
        "    print(\"Key not found in dictionary.\")"
      ],
      "metadata": {
        "colab": {
          "base_uri": "https://localhost:8080/"
        },
        "id": "dwkrnidiu7dO",
        "outputId": "50e729cb-f6a9-4ab1-dcfc-bb4b17ae5a73"
      },
      "execution_count": 7,
      "outputs": [
        {
          "output_type": "stream",
          "name": "stdout",
          "text": [
            "Key not found in dictionary.\n"
          ]
        }
      ]
    },
    {
      "cell_type": "code",
      "source": [
        "# Write a program that demonstrates using multiple except blocks to handle\n",
        "# different types of exceptions\n",
        "try:\n",
        "    num = int(\"abc\")  # Causes ValueError\n",
        "except ValueError:\n",
        "    print(\"Invalid input! Please enter a number.\")\n",
        "\n",
        "try:\n",
        "    result = 10 / 0  # Causes ZeroDivisionError\n",
        "except ZeroDivisionError:\n",
        "    print(\"Cannot divide by zero!\")"
      ],
      "metadata": {
        "colab": {
          "base_uri": "https://localhost:8080/"
        },
        "id": "pzVJDLjavQmY",
        "outputId": "64c0b2cc-6ef8-4a64-b934-433c7eb1ade2"
      },
      "execution_count": 9,
      "outputs": [
        {
          "output_type": "stream",
          "name": "stdout",
          "text": [
            "Invalid input! Please enter a number.\n",
            "Cannot divide by zero!\n"
          ]
        }
      ]
    },
    {
      "cell_type": "code",
      "source": [
        "#How would you check if a file exists before attempting to read it in Python?\n",
        "import os\n",
        "\n",
        "if os.path.exists(\"example.txt\"):\n",
        "    with open(\"example.txt\", \"r\") as file:\n",
        "        print(file.read())\n",
        "else:\n",
        "    print(\"File does not exist.\")"
      ],
      "metadata": {
        "colab": {
          "base_uri": "https://localhost:8080/"
        },
        "id": "AwiEG9ASxYf8",
        "outputId": "0fbb936f-6e07-498f-bbcd-d8d745db5cd5"
      },
      "execution_count": 10,
      "outputs": [
        {
          "output_type": "stream",
          "name": "stdout",
          "text": [
            "Hello, this is a test file!\n"
          ]
        }
      ]
    },
    {
      "cell_type": "code",
      "source": [
        "# Write a program that uses the logging module to log both informational and\n",
        "# error messages.\n",
        "import logging\n",
        "\n",
        "logging.basicConfig(filename=\"app.log\", level=logging.DEBUG)\n",
        "\n",
        "try:\n",
        "    with open(\"file.txt\", \"r\") as file:\n",
        "        print(file.read())\n",
        "except FileNotFoundError:\n",
        "    logging.error(\"File not found.\")\n",
        "logging.info(\"File read attempt completed.\")"
      ],
      "metadata": {
        "colab": {
          "base_uri": "https://localhost:8080/"
        },
        "id": "3kZ-pSvFycyF",
        "outputId": "81fe3377-5dfc-4c7c-a854-ed864617cca7"
      },
      "execution_count": 11,
      "outputs": [
        {
          "output_type": "stream",
          "name": "stderr",
          "text": [
            "ERROR:root:File not found.\n"
          ]
        }
      ]
    },
    {
      "cell_type": "code",
      "source": [
        "# Write a Python program that prints the content of a file and handles the case\n",
        "# when the file is empty.\n",
        "filename = \"empty.txt\"\n",
        "\n",
        "with open(filename, \"r\") as file:\n",
        "    content = file.read()\n",
        "    if not content:\n",
        "        print(\"The file is empty.\")\n",
        "    else:\n",
        "        print(content)"
      ],
      "metadata": {
        "id": "qYF7dQBAzCgD"
      },
      "execution_count": null,
      "outputs": []
    },
    {
      "cell_type": "code",
      "source": [
        "# Write a Python program to create and write a list of numbers to a file, one\n",
        "# number per line.\n",
        "numbers = [1, 2, 3, 4, 5]\n",
        "\n",
        "with open(\"numbers.txt\", \"w\") as file:\n",
        "    for number in numbers:\n",
        "        file.write(f\"{number}\\n\")"
      ],
      "metadata": {
        "id": "shnCVurx2xFU"
      },
      "execution_count": 15,
      "outputs": []
    },
    {
      "cell_type": "code",
      "source": [
        "# How would you implement a basic logging setup that logs to a file with\n",
        "# rotation after 1MB?\n",
        "import logging\n",
        "from logging.handlers import RotatingFileHandler\n",
        "\n",
        "handler = RotatingFileHandler(\"app.log\", maxBytes=1024 * 1024, backupCount=3)\n",
        "logger = logging.getLogger()\n",
        "logger.setLevel(logging.DEBUG)\n",
        "logger.addHandler(handler)\n",
        "\n",
        "logger.info(\"This is a test log message.\")"
      ],
      "metadata": {
        "colab": {
          "base_uri": "https://localhost:8080/"
        },
        "id": "NSSP2jDR3NDU",
        "outputId": "824d99ff-df65-42e9-9511-b5ea33c30fe8"
      },
      "execution_count": 16,
      "outputs": [
        {
          "output_type": "stream",
          "name": "stderr",
          "text": [
            "INFO:root:This is a test log message.\n"
          ]
        }
      ]
    },
    {
      "cell_type": "code",
      "source": [
        "# Write a program that handles both IndexError and KeyError using a try-except\n",
        "# block.\n",
        "try:\n",
        "    my_list = [1, 2, 3]\n",
        "    print(my_list[5])  # IndexError\n",
        "except IndexError:\n",
        "    print(\"Index out of range!\")\n",
        "\n",
        "try:\n",
        "    my_dict = {\"name\": \"Alice\"}\n",
        "    print(my_dict[\"age\"])  # KeyError\n",
        "except KeyError:\n",
        "    print(\"Key not found in dictionary!\")"
      ],
      "metadata": {
        "colab": {
          "base_uri": "https://localhost:8080/"
        },
        "id": "zZOVJ0eH3Xts",
        "outputId": "8e5853ce-9c8d-489b-eada-1cd08bbbcb8e"
      },
      "execution_count": 18,
      "outputs": [
        {
          "output_type": "stream",
          "name": "stdout",
          "text": [
            "Index out of range!\n",
            "Key not found in dictionary!\n"
          ]
        }
      ]
    },
    {
      "cell_type": "code",
      "source": [
        "# How would you open a file and read its contents using a context manager in\n",
        "# Python?\n",
        "with open(\"example.txt\", \"r\") as file:\n",
        "    content = file.read()\n",
        "    print(content)"
      ],
      "metadata": {
        "colab": {
          "base_uri": "https://localhost:8080/"
        },
        "id": "BwdNss004AKb",
        "outputId": "fcc16cb6-ae59-413e-fbe7-114d41bd7343"
      },
      "execution_count": 19,
      "outputs": [
        {
          "output_type": "stream",
          "name": "stdout",
          "text": [
            "Hello, this is a test file!\n"
          ]
        }
      ]
    },
    {
      "cell_type": "code",
      "source": [
        "# Write a Python program that reads a file and prints the number of occurrences\n",
        "# of a specific word.\n",
        "word_to_count = \"Python\"\n",
        "\n",
        "with open(\"example.txt\", \"r\") as file:\n",
        "    content = file.read()\n",
        "    occurrences = content.lower().count(word_to_count.lower())\n",
        "\n",
        "print(f\"The word '{word_to_count}' appears {occurrences} times.\")"
      ],
      "metadata": {
        "colab": {
          "base_uri": "https://localhost:8080/"
        },
        "id": "GDjXWucN49kO",
        "outputId": "a6d151ff-850e-4f1e-e9c1-5b4a42419134"
      },
      "execution_count": 20,
      "outputs": [
        {
          "output_type": "stream",
          "name": "stdout",
          "text": [
            "The word 'Python' appears 0 times.\n"
          ]
        }
      ]
    },
    {
      "cell_type": "code",
      "source": [
        "# How can you check if a file is empty before attempting to read its contents?\n",
        "import os\n",
        "\n",
        "filename = \"example.txt\"\n",
        "\n",
        "if os.path.exists(filename) and os.path.getsize(filename) > 0:\n",
        "    print(\"File is not empty.\")\n",
        "else:\n",
        "    print(\"File is empty.\")"
      ],
      "metadata": {
        "colab": {
          "base_uri": "https://localhost:8080/"
        },
        "id": "U0j24i4C5Zr_",
        "outputId": "14909126-a206-4daa-96cf-96f4e739b2c2"
      },
      "execution_count": 21,
      "outputs": [
        {
          "output_type": "stream",
          "name": "stdout",
          "text": [
            "File is not empty.\n"
          ]
        }
      ]
    },
    {
      "cell_type": "code",
      "source": [
        "# Write a Python program that writes to a log file when an error occurs during\n",
        "# file handling.\n",
        "import logging\n",
        "\n",
        "logging.basicConfig(filename=\"file_errors.log\", level=logging.ERROR)\n",
        "\n",
        "try:\n",
        "    with open(\"missing.txt\", \"r\") as file:\n",
        "        content = file.read()\n",
        "except FileNotFoundError as e:\n",
        "    logging.error(f\"File error: {e}\")"
      ],
      "metadata": {
        "colab": {
          "base_uri": "https://localhost:8080/"
        },
        "id": "D0Ndc_MV5qP7",
        "outputId": "6d2028e1-c190-4553-bc40-f3c8d7158ad3"
      },
      "execution_count": 22,
      "outputs": [
        {
          "output_type": "stream",
          "name": "stderr",
          "text": [
            "ERROR:root:File error: [Errno 2] No such file or directory: 'missing.txt'\n"
          ]
        }
      ]
    },
    {
      "cell_type": "code",
      "source": [
        "# Demonstrate how to use memory profiling to check the memory usage of a small\n",
        "# program\n",
        "from memory_profiler import profile\n",
        "\n",
        "@profile\n",
        "def example():\n",
        "    arr = [i for i in range(1000000)]  # Large list\n",
        "    return sum(arr)\n",
        "\n",
        "example()"
      ],
      "metadata": {
        "id": "HBU-F31V5__7"
      },
      "execution_count": null,
      "outputs": []
    }
  ]
}